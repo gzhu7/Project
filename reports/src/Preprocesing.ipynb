{
 "cells": [
  {
   "cell_type": "code",
   "execution_count": 31,
   "metadata": {},
   "outputs": [],
   "source": [
    "import pandas as pd\n",
    "df = pd.read_csv('C://Users//47129//Desktop//bank-additional-full.csv',sep=';')"
   ]
  },
  {
   "cell_type": "code",
   "execution_count": 32,
   "metadata": {},
   "outputs": [
    {
     "data": {
      "text/plain": [
       "(41188, 21)"
      ]
     },
     "execution_count": 32,
     "metadata": {},
     "output_type": "execute_result"
    }
   ],
   "source": [
    "df.shape"
   ]
  },
  {
   "cell_type": "code",
   "execution_count": 33,
   "metadata": {},
   "outputs": [
    {
     "name": "stdout",
     "output_type": "stream",
     "text": [
      "(41188, 53)\n"
     ]
    }
   ],
   "source": [
    "#One-hot Encoder for categotical features:job, marital, education, default, housing,  loan, contact, poutcome, month, day_of_week,\n",
    "from sklearn.preprocessing import OneHotEncoder\n",
    "x_ohe=df[['job','marital','education','default','housing','loan','contact','poutcome','month','day_of_week']]\n",
    "enc = OneHotEncoder(sparse=False)\n",
    "ohe=enc.fit_transform(x_ohe)\n",
    "print(ohe.shape)"
   ]
  },
  {
   "cell_type": "code",
   "execution_count": 34,
   "metadata": {},
   "outputs": [
    {
     "name": "stdout",
     "output_type": "stream",
     "text": [
      "(41188, 4)\n"
     ]
    },
    {
     "name": "stderr",
     "output_type": "stream",
     "text": [
      "C:\\ProgramData\\Anaconda3\\lib\\site-packages\\sklearn\\preprocessing\\data.py:334: DataConversionWarning: Data with input dtype int64 were all converted to float64 by MinMaxScaler.\n",
      "  return self.partial_fit(X, y)\n"
     ]
    }
   ],
   "source": [
    "#MinMaxScaler for continuous features:  age, pdays,campaign, previous\n",
    "from sklearn.preprocessing import MinMaxScaler\n",
    "#df['age'] = pd.to_numeric(df['age']) \n",
    "#df['pdays'] = pd.to_numeric(df['pdays']) \n",
    "#df['campaign'] = pd.to_numeric(df['campaign']) \n",
    "#df['previous'] = pd.to_numeric(df['previous']) \n",
    "x_mms=df[['age','pdays','campaign','previous']]\n",
    "scaler = MinMaxScaler()\n",
    "mms=scaler.fit_transform(x_mms)\n",
    "print(mms.shape)"
   ]
  },
  {
   "cell_type": "code",
   "execution_count": 35,
   "metadata": {},
   "outputs": [
    {
     "name": "stdout",
     "output_type": "stream",
     "text": [
      "(41188, 6)\n"
     ]
    },
    {
     "name": "stderr",
     "output_type": "stream",
     "text": [
      "C:\\ProgramData\\Anaconda3\\lib\\site-packages\\sklearn\\preprocessing\\data.py:645: DataConversionWarning: Data with input dtype int64, float64 were all converted to float64 by StandardScaler.\n",
      "  return self.partial_fit(X, y)\n",
      "C:\\ProgramData\\Anaconda3\\lib\\site-packages\\sklearn\\base.py:464: DataConversionWarning: Data with input dtype int64, float64 were all converted to float64 by StandardScaler.\n",
      "  return self.fit(X, **fit_params).transform(X)\n"
     ]
    }
   ],
   "source": [
    "#StandardScaler for continuous features: duration, emp.var.rate, cons.price.idx, cons.conf.idx, euribor3m, nr.employed\n",
    "from sklearn.preprocessing import StandardScaler\n",
    "\n",
    "x_ss=df[['duration','emp.var.rate','cons.price.idx','cons.conf.idx','euribor3m','nr.employed']]\n",
    "scaler = StandardScaler()\n",
    "ss=scaler.fit_transform(x_ss)\n",
    "print(ss.shape)"
   ]
  },
  {
   "cell_type": "code",
   "execution_count": 36,
   "metadata": {},
   "outputs": [
    {
     "name": "stdout",
     "output_type": "stream",
     "text": [
      "(41188,)\n"
     ]
    },
    {
     "name": "stderr",
     "output_type": "stream",
     "text": [
      "C:\\ProgramData\\Anaconda3\\lib\\site-packages\\sklearn\\preprocessing\\label.py:235: DataConversionWarning: A column-vector y was passed when a 1d array was expected. Please change the shape of y to (n_samples, ), for example using ravel().\n",
      "  y = column_or_1d(y, warn=True)\n"
     ]
    }
   ],
   "source": [
    "#LabelEncoder for the target variable: 'gross-income':\n",
    "from sklearn.preprocessing import LabelEncoder\n",
    "\n",
    "y=df[['y']]\n",
    "enc = LabelEncoder()\n",
    "le = enc.fit_transform(y)\n",
    "print(le.shape)"
   ]
  },
  {
   "cell_type": "code",
   "execution_count": 37,
   "metadata": {},
   "outputs": [
    {
     "data": {
      "text/plain": [
       "(41188, 64)"
      ]
     },
     "execution_count": 37,
     "metadata": {},
     "output_type": "execute_result"
    }
   ],
   "source": [
    "#Save the preprocessed features into a pandas dataframe:\n",
    "df_1=pd.DataFrame(ohe)\n",
    "df_2=pd.DataFrame(mms)\n",
    "df_3=pd.DataFrame(ss)\n",
    "df_4=pd.DataFrame(le)\n",
    "df_new=pd.concat([df_1,df_2,df_3,df_4],axis=1,ignore_index=True)\n",
    "df_new.shape"
   ]
  },
  {
   "cell_type": "code",
   "execution_count": null,
   "metadata": {},
   "outputs": [],
   "source": []
  },
  {
   "cell_type": "code",
   "execution_count": null,
   "metadata": {},
   "outputs": [],
   "source": []
  },
  {
   "cell_type": "code",
   "execution_count": null,
   "metadata": {},
   "outputs": [],
   "source": []
  },
  {
   "cell_type": "code",
   "execution_count": null,
   "metadata": {},
   "outputs": [],
   "source": []
  },
  {
   "cell_type": "code",
   "execution_count": null,
   "metadata": {},
   "outputs": [],
   "source": []
  },
  {
   "cell_type": "code",
   "execution_count": null,
   "metadata": {},
   "outputs": [],
   "source": []
  },
  {
   "cell_type": "code",
   "execution_count": null,
   "metadata": {},
   "outputs": [],
   "source": []
  },
  {
   "cell_type": "code",
   "execution_count": null,
   "metadata": {},
   "outputs": [],
   "source": []
  },
  {
   "cell_type": "code",
   "execution_count": null,
   "metadata": {},
   "outputs": [],
   "source": []
  }
 ],
 "metadata": {
  "kernelspec": {
   "display_name": "Python 3",
   "language": "python",
   "name": "python3"
  },
  "language_info": {
   "codemirror_mode": {
    "name": "ipython",
    "version": 3
   },
   "file_extension": ".py",
   "mimetype": "text/x-python",
   "name": "python",
   "nbconvert_exporter": "python",
   "pygments_lexer": "ipython3",
   "version": "3.7.3"
  }
 },
 "nbformat": 4,
 "nbformat_minor": 2
}
